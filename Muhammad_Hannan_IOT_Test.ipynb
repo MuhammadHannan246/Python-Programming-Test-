{
  "nbformat": 4,
  "nbformat_minor": 0,
  "metadata": {
    "colab": {
      "name": "Muhammad_Hannan_IOT_Test.ipynb",
      "provenance": []
    },
    "kernelspec": {
      "name": "python3",
      "display_name": "Python 3"
    },
    "language_info": {
      "name": "python"
    }
  },
  "cells": [
    {
      "cell_type": "code",
      "execution_count": 30,
      "metadata": {
        "colab": {
          "base_uri": "https://localhost:8080/"
        },
        "id": "ougJBNrabpLg",
        "outputId": "4054c0ef-ee16-42ae-9472-53f37e9b98fd"
      },
      "outputs": [
        {
          "output_type": "stream",
          "name": "stdout",
          "text": [
            "Enter how Many Numbers You Want to Insert in a list: 10\n",
            "Enter a list of numbers: 1\n",
            "Enter a list of numbers: 2\n",
            "Enter a list of numbers: 3\n",
            "Enter a list of numbers: 4\n",
            "Enter a list of numbers: 5\n",
            "Enter a list of numbers: 6\n",
            "Enter a list of numbers: 7\n",
            "Enter a list of numbers: 8\n",
            "Enter a list of numbers: 9\n",
            "Enter a list of numbers: 10\n",
            "1  \n",
            "3  \n",
            "5  \n",
            "7  \n",
            "9  \n"
          ]
        }
      ],
      "source": [
        "# write a program to print all odd numbers in a list.\n",
        "\n",
        "dh = int(input(\"Enter how Many Numbers You Want to Insert in a list: \"))\n",
        "lst = list(range(1,dh+1,1))\n",
        "for d in lst:\n",
        "  user = int(input(\"Enter a list of numbers: \"))\n",
        "\n",
        "for odd in lst:\n",
        "  if odd % 2 != 0:\n",
        "       print(odd,\" \")"
      ]
    },
    {
      "cell_type": "code",
      "source": [
        "#python program to find sum of list elements\n",
        "dh = int(input(\"Enter how Many Numbers You Want to Insert in a list: \"))\n",
        "lst = list(range(1,dh+1,1))\n",
        "sum = 0\n",
        "for d in lst:\n",
        "  user = int(input(\"Enter a list of numbers: \"))\n",
        "\n",
        "for element in lst:\n",
        "  sum += element\n",
        "print(\"Sum of all elements: \",sum)\n"
      ],
      "metadata": {
        "colab": {
          "base_uri": "https://localhost:8080/"
        },
        "id": "GZ3qaKIAdoQQ",
        "outputId": "09080ba3-0658-412c-e490-00298aae95a3"
      },
      "execution_count": 28,
      "outputs": [
        {
          "output_type": "stream",
          "name": "stdout",
          "text": [
            "Enter how Many Numbers You Want to Insert in a list: 4\n",
            "Enter a list of numbers: 1\n",
            "Enter a list of numbers: 2\n",
            "Enter a list of numbers: 3\n",
            "Enter a list of numbers: 4\n",
            "Sum of all elements:  10\n"
          ]
        }
      ]
    },
    {
      "cell_type": "code",
      "source": [
        "# Program to reverse a list in two ways\n",
        "dh = int(input(\"Enter how Many Numbers You Want to Insert in a list: \"))\n",
        "lst = list(range(1,dh+1,1))\n",
        "for d in lst:\n",
        "  user = int(input(\"Enter a list of numbers: \"))\n",
        "print(lst)\n",
        "lst.reverse()\n",
        "print(lst)\n",
        "print(lst[::-1])"
      ],
      "metadata": {
        "colab": {
          "base_uri": "https://localhost:8080/"
        },
        "id": "fumf7-offIju",
        "outputId": "fe434e42-6290-4d76-8135-ea1025d182c3"
      },
      "execution_count": 33,
      "outputs": [
        {
          "output_type": "stream",
          "name": "stdout",
          "text": [
            "Enter how Many Numbers You Want to Insert in a list: 5\n",
            "Enter a list of numbers: 1\n",
            "Enter a list of numbers: 2\n",
            "Enter a list of numbers: 3\n",
            "Enter a list of numbers: 4\n",
            "Enter a list of numbers: 5\n",
            "[1, 2, 3, 4, 5]\n",
            "[5, 4, 3, 2, 1]\n",
            "[1, 2, 3, 4, 5]\n"
          ]
        }
      ]
    },
    {
      "cell_type": "code",
      "source": [
        "# First Two Max Num\n",
        "inp = input(\"Enter the elements of list: \")\n",
        "user_list = inp.split()\n",
        "print(user_list)\n",
        "for dh in range(len(user_list)):\n",
        "  user_list[dh] = int(user_list[dh])\n",
        "\n",
        "user_list.sort()\n",
        "one = user_list[-1]\n",
        "two = user_list[-2]\n",
        "print(\"First Max\",one)\n",
        "print(\"Second Max\",two)\n"
      ],
      "metadata": {
        "colab": {
          "base_uri": "https://localhost:8080/"
        },
        "id": "UrECFu4cn-Gf",
        "outputId": "51661c49-c08d-47d3-c5d1-85d68eb7581c"
      },
      "execution_count": 69,
      "outputs": [
        {
          "output_type": "stream",
          "name": "stdout",
          "text": [
            "Enter the elements of list: 7 4 6 21 2 3\n",
            "['7', '4', '6', '21', '2', '3']\n",
            "21\n",
            "7\n"
          ]
        }
      ]
    },
    {
      "cell_type": "code",
      "source": [
        "# second highest num in list\n",
        "inp = input(\"Enter the elements of list: \")\n",
        "user_list = inp.split()\n",
        "print(user_list)\n",
        "for dh in range(len(user_list)):\n",
        "  user_list[dh] = int(user_list[dh])\n",
        "\n",
        "user_list.sort()\n",
        "print(user_list)\n",
        "print(\"Second Highest Number is: \",user_list[-2])"
      ],
      "metadata": {
        "colab": {
          "base_uri": "https://localhost:8080/"
        },
        "id": "XezNROqevYvN",
        "outputId": "f4fa01fb-641c-40fb-cafc-070a5b3cd2a7"
      },
      "execution_count": 71,
      "outputs": [
        {
          "output_type": "stream",
          "name": "stdout",
          "text": [
            "Enter the elements of list: 6 7 4 21 8 17 \n",
            "['6', '7', '4', '21', '8', '17']\n",
            "[4, 6, 7, 8, 17, 21]\n",
            "Second Highest Number is:  17\n"
          ]
        }
      ]
    },
    {
      "cell_type": "code",
      "source": [
        "# reverse characters in decending order\n",
        "use = input(\"Enter any string: \")\n",
        "print(use[::-1])"
      ],
      "metadata": {
        "colab": {
          "base_uri": "https://localhost:8080/"
        },
        "id": "Wog38THgx0bI",
        "outputId": "5cf6f116-10a2-455e-8261-cc2ef9cbf5e7"
      },
      "execution_count": 72,
      "outputs": [
        {
          "output_type": "stream",
          "name": "stdout",
          "text": [
            "Enter any stringHannan\n",
            "nannaH\n"
          ]
        }
      ]
    },
    {
      "cell_type": "code",
      "source": [
        "# reverse characters in decending order\n",
        "use = input(\"Enter any string: \")\n",
        "dh = \"\"\n",
        "for duplicate in use:\n",
        "    if duplicate not in dh:\n",
        "        dh+=duplicate\n",
        "print(dh)\n",
        "d=list(use)"
      ],
      "metadata": {
        "colab": {
          "base_uri": "https://localhost:8080/"
        },
        "id": "dqgkAAyOy8Ya",
        "outputId": "253f7a37-fa33-4946-9bdd-d5c4ea32f757"
      },
      "execution_count": 84,
      "outputs": [
        {
          "output_type": "stream",
          "name": "stdout",
          "text": [
            "Enter any string: Hannan\n",
            "Han\n"
          ]
        }
      ]
    },
    {
      "cell_type": "code",
      "source": [
        "# check char is vowel or consonant\n",
        "vowel = input(\"Enter any character: \")\n",
        "\n",
        "if(vowel == 'a' or vowel == 'e' or vowel == 'i' or vowel == 'o' or vowel == 'u' ):\n",
        "  print(vowel,\" is Vowel.\")\n",
        "else:\n",
        "  print(vowel,\" is Consonant.\")"
      ],
      "metadata": {
        "colab": {
          "base_uri": "https://localhost:8080/"
        },
        "id": "HJ3YLoO8ztln",
        "outputId": "657e6955-5236-4397-b119-ef754052bcc2"
      },
      "execution_count": 79,
      "outputs": [
        {
          "output_type": "stream",
          "name": "stdout",
          "text": [
            "Enter any character: h\n",
            "h  is Consonant.\n"
          ]
        }
      ]
    },
    {
      "cell_type": "code",
      "source": [
        "# calculate the factorial of number\n",
        "fac = int(input(\"Enter any num to calculate it's factorial\"))\n",
        "factorial = 1\n",
        "for i in range(1,fac + 1):\n",
        "  factorial = factorial*i\n",
        "print(\"The Factorial of \",fac,\" is \",factorial)"
      ],
      "metadata": {
        "colab": {
          "base_uri": "https://localhost:8080/"
        },
        "id": "azPCCrs9058H",
        "outputId": "5e855a03-5531-4589-a27e-a45b538b3683"
      },
      "execution_count": 80,
      "outputs": [
        {
          "output_type": "stream",
          "name": "stdout",
          "text": [
            "Enter any num to calculate it's factorial5\n",
            "The Factorial of  5  is  120\n"
          ]
        }
      ]
    },
    {
      "cell_type": "code",
      "source": [
        "# Merging two list\n",
        "inp1 = input(\"Enter the elements of list: \")\n",
        "inp2 = input(\"Enter the elements of list: \")\n",
        "\n",
        "user_list1 = inp1.split()\n",
        "user_list2 = inp2.split()\n",
        "print(user_list1)\n",
        "print(user_list2)\n",
        "final_List = user_list1 + user_list2\n",
        "print(final_List)\n"
      ],
      "metadata": {
        "colab": {
          "base_uri": "https://localhost:8080/"
        },
        "id": "MJCgWnr21xjx",
        "outputId": "21735c3d-9da5-4871-ef54-0b4c3b2b8a13"
      },
      "execution_count": 83,
      "outputs": [
        {
          "output_type": "stream",
          "name": "stdout",
          "text": [
            "Enter the elements of list: Hannan Darakhshan\n",
            "Enter the elements of list: Miraal Faham\n",
            "['Hannan', 'Darakhshan']\n",
            "['Miraal', 'Faham']\n",
            "['Hannan', 'Darakhshan', 'Miraal', 'Faham']\n"
          ]
        }
      ]
    },
    {
      "cell_type": "code",
      "source": [
        ""
      ],
      "metadata": {
        "id": "DMJ3Q8rD2hT9"
      },
      "execution_count": null,
      "outputs": []
    }
  ]
}